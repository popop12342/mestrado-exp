{
  "cells": [
    {
      "cell_type": "code",
      "execution_count": null,
      "metadata": {
        "colab": {
          "base_uri": "https://localhost:8080/"
        },
        "id": "WREcjYzM1tqw",
        "outputId": "26ea3b34-a3e1-4830-b616-250ba83eb0b3"
      },
      "outputs": [],
      "source": [
        "!git clone https://github.com/popop12342/mestrado-exp"
      ]
    },
    {
      "cell_type": "code",
      "execution_count": null,
      "metadata": {
        "colab": {
          "base_uri": "https://localhost:8080/"
        },
        "id": "Wlfb4NFQ8nV5",
        "outputId": "156060a1-cf4f-4d58-8928-1887e1124aa4"
      },
      "outputs": [],
      "source": [
        "%cd mestrado-exp/gan_aug/data\n",
        "!unzip aclImdb.zip"
      ]
    },
    {
      "cell_type": "code",
      "execution_count": null,
      "metadata": {
        "colab": {
          "base_uri": "https://localhost:8080/"
        },
        "id": "KXbRRcjm2BSi",
        "outputId": "7cb2cc8c-578a-4ac7-9827-184c7928c613"
      },
      "outputs": [],
      "source": [
        "%cd mestrado-exp/gan_aug/\n",
        "!mkdir models\n",
        "%cd optuna\n",
        "!mkdir stats"
      ]
    },
    {
      "cell_type": "code",
      "execution_count": null,
      "metadata": {
        "colab": {
          "base_uri": "https://localhost:8080/"
        },
        "id": "7rJb2FAm2Yq_",
        "outputId": "ee9c51c8-ca19-4bcb-cd0f-a2f40f68cc16"
      },
      "outputs": [],
      "source": [
        "!pip install optuna torch scikit-learn"
      ]
    },
    {
      "cell_type": "code",
      "execution_count": null,
      "metadata": {
        "colab": {
          "base_uri": "https://localhost:8080/"
        },
        "id": "EWKBBH099SbB",
        "outputId": "66b61a6d-d545-47ba-f884-b13fb33a685b"
      },
      "outputs": [],
      "source": [
        "!pwd"
      ]
    },
    {
      "cell_type": "code",
      "execution_count": null,
      "metadata": {
        "colab": {
          "base_uri": "https://localhost:8080/"
        },
        "id": "Fgl7K3Y82bmN",
        "outputId": "c1cd84ab-2cdf-4e1b-8623-379c0a91eec6"
      },
      "outputs": [],
      "source": [
        "!python gan_optuna.py --dataset aclImdb"
      ]
    },
    {
      "cell_type": "code",
      "execution_count": null,
      "metadata": {
        "id": "fkl72xV49bMv"
      },
      "outputs": [],
      "source": []
    }
  ],
  "metadata": {
    "accelerator": "GPU",
    "colab": {
      "provenance": []
    },
    "gpuClass": "standard",
    "kernelspec": {
      "display_name": "Python 3",
      "name": "python3"
    },
    "language_info": {
      "name": "python"
    }
  },
  "nbformat": 4,
  "nbformat_minor": 0
}
