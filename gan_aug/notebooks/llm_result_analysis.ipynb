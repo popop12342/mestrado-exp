{
 "cells": [
  {
   "cell_type": "code",
   "execution_count": 1,
   "metadata": {},
   "outputs": [],
   "source": [
    "import sys\n",
    "sys.path.append('..')"
   ]
  },
  {
   "cell_type": "code",
   "execution_count": 2,
   "metadata": {},
   "outputs": [],
   "source": [
    "import os\n",
    "import json\n",
    "import matplotlib.pyplot as plt\n",
    "from util.calculate_confidence_interval import calculate_interval\n",
    "import numpy as np"
   ]
  },
  {
   "cell_type": "code",
   "execution_count": 21,
   "metadata": {},
   "outputs": [],
   "source": [
    "data = {'gan-textgen-bert': {}, 'bert': {}}\n",
    "\n",
    "def load_stats(model: str, dataset: str) -> dict:\n",
    "    base_dir = f'../core/stats/{dataset}/{model}'\n",
    "    stats = {}\n",
    "    for filename in os.listdir(base_dir):\n",
    "        stats_file = os.path.join(base_dir, filename)\n",
    "        with open(stats_file, 'r') as f:\n",
    "            stats.update(json.load(f))\n",
    "    return stats\n",
    "\n",
    "data['gan-textgen-bert'].update(load_stats('gan-textgen-bert', 'llmsubj'))\n",
    "data['gan-textgen-bert'].update(load_stats('gan-textgen-bert', 'llmaclImdb'))\n",
    "data['bert'].update(load_stats('bert', 'llmsubj'))\n",
    "data['bert'].update(load_stats('bert', 'llmaclImdb'))"
   ]
  },
  {
   "cell_type": "code",
   "execution_count": 22,
   "metadata": {},
   "outputs": [
    {
     "name": "stdout",
     "output_type": "stream",
     "text": [
      "Dataset subj_010\n",
      "gan-textgen-bert acc avg: 0.919 err: 0.010\n",
      "bert acc avg: 0.908 err: 0.019\n",
      "\n",
      "Dataset llm_subj_001\n",
      "gan-textgen-bert acc avg: 0.872 err: 0.030\n",
      "bert acc avg: 0.864 err: 0.049\n",
      "\n",
      "Dataset subj_001\n",
      "gan-textgen-bert acc avg: 0.845 err: 0.055\n",
      "bert acc avg: 0.861 err: 0.014\n",
      "\n",
      "Dataset llm_subj_010\n",
      "gan-textgen-bert acc avg: 0.915 err: 0.005\n",
      "bert acc avg: 0.915 err: 0.012\n",
      "\n",
      "Dataset llm_subj_005\n",
      "gan-textgen-bert acc avg: 0.911 err: 0.004\n",
      "bert acc avg: 0.898 err: 0.023\n",
      "\n",
      "Dataset subj_005\n",
      "gan-textgen-bert acc avg: 0.911 err: 0.006\n",
      "bert acc avg: 0.868 err: 0.055\n",
      "\n",
      "Dataset llm_aclImdb_005\n",
      "gan-textgen-bert acc avg: 0.715 err: 0.006\n",
      "bert acc avg: 0.545 err: 0.065\n",
      "\n",
      "Dataset aclImdb_001\n",
      "gan-textgen-bert acc avg: 0.662 err: 0.010\n",
      "bert acc avg: 0.581 err: 0.056\n",
      "\n",
      "Dataset llm_aclImdb_001\n",
      "gan-textgen-bert acc avg: 0.682 err: 0.015\n",
      "bert acc avg: 0.648 err: 0.047\n",
      "\n",
      "Dataset aclImdb_005\n",
      "gan-textgen-bert acc avg: 0.673 err: 0.045\n",
      "bert acc avg: 0.520 err: 0.030\n",
      "\n"
     ]
    }
   ],
   "source": [
    "for dataset in data['bert'].keys():\n",
    "    print('Dataset ' + dataset)\n",
    "    gan_textgen_stats = data['gan-textgen-bert'][dataset]\n",
    "    accs = [x['accuracy'] for x in gan_textgen_stats]\n",
    "    avg, err = calculate_interval(accs)\n",
    "    print('gan-textgen-bert acc avg: {:.3f} err: {:.3f}'.format(avg, err))\n",
    "    bert_stats = data['bert'][dataset]\n",
    "    accs = [x['accuracy'] for x in bert_stats]\n",
    "    avg, err = calculate_interval(accs)\n",
    "    print('bert acc avg: {:.3f} err: {:.3f}'.format(avg, err))\n",
    "    print()"
   ]
  },
  {
   "cell_type": "code",
   "execution_count": null,
   "metadata": {},
   "outputs": [],
   "source": []
  }
 ],
 "metadata": {
  "kernelspec": {
   "display_name": "mestrado",
   "language": "python",
   "name": "python3"
  },
  "language_info": {
   "codemirror_mode": {
    "name": "ipython",
    "version": 3
   },
   "file_extension": ".py",
   "mimetype": "text/x-python",
   "name": "python",
   "nbconvert_exporter": "python",
   "pygments_lexer": "ipython3",
   "version": "3.11.3"
  }
 },
 "nbformat": 4,
 "nbformat_minor": 2
}
