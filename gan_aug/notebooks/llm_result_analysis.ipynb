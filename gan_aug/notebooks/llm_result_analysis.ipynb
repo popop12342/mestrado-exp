{
 "cells": [
  {
   "cell_type": "code",
   "execution_count": 2,
   "metadata": {},
   "outputs": [],
   "source": [
    "import os\n",
    "import json\n",
    "import matplotlib.pyplot as plt\n",
    "import numpy as np\n",
    "import scipy.stats as stats"
   ]
  },
  {
   "cell_type": "code",
   "execution_count": 3,
   "metadata": {},
   "outputs": [],
   "source": [
    "data = {'gan-textgen-bert': {}, 'bert': {}}\n",
    "\n",
    "def load_stats(stats_dir: str) -> dict:\n",
    "    stats = {}\n",
    "    for filename in os.listdir(stats_dir):\n",
    "        stats_file = os.path.join(stats_dir, filename)\n",
    "        with open(stats_file, 'r') as f:\n",
    "            stats.update(json.load(f))\n",
    "    return stats\n",
    "\n",
    "data['gan-textgen-bert'].update(load_stats('../core/stats/llmsubj/samples-20_naug-1/gan-textgen-bert'))\n",
    "data['bert'].update(load_stats('../core/stats/llmsubj/samples-20_naug-1/bert'))"
   ]
  },
  {
   "cell_type": "code",
   "execution_count": 4,
   "metadata": {},
   "outputs": [],
   "source": [
    "def calculate_interval(samples: list[float], confidence_level: float = 0.95) -> tuple[float, float]:\n",
    "    sample_mean = np.mean(samples)\n",
    "    sample_std = np.std(samples, ddof=1)\n",
    "    sample_size = len(samples)\n",
    "\n",
    "    t_score = stats.t.ppf((1 + confidence_level) / 2, df=sample_size - 1)\n",
    "    margin_of_error = t_score * (sample_std / np.sqrt(sample_size))\n",
    "\n",
    "    return sample_mean, margin_of_error"
   ]
  },
  {
   "cell_type": "code",
   "execution_count": 5,
   "metadata": {},
   "outputs": [
    {
     "data": {
      "text/plain": [
       "(0.8694444444444445, 0.0160599714647634)"
      ]
     },
     "execution_count": 5,
     "metadata": {},
     "output_type": "execute_result"
    }
   ],
   "source": [
    "outlier_threshold = 0.7\n",
    "acc_x = [x['accuracy'] for x in data['bert']['cllmsubj_001'] if x['accuracy'] > outlier_threshold]\n",
    "calculate_interval(acc_x)"
   ]
  },
  {
   "cell_type": "code",
   "execution_count": 6,
   "metadata": {},
   "outputs": [
    {
     "name": "stdout",
     "output_type": "stream",
     "text": [
      "Dataset cllmsubj_001\n",
      "gan-textgen-bert acc avg: 0.881 err: 0.007\n",
      "bert acc avg: 0.833 err: 0.083\n",
      "\n",
      "Dataset cllmsubj_002\n",
      "gan-textgen-bert acc avg: 0.906 err: 0.006\n",
      "bert acc avg: 0.870 err: 0.092\n",
      "\n",
      "Dataset cllmsubj_005\n",
      "gan-textgen-bert acc avg: 0.910 err: 0.007\n",
      "bert acc avg: 0.888 err: 0.045\n",
      "\n",
      "Dataset subj_001\n",
      "gan-textgen-bert acc avg: 0.866 err: 0.015\n",
      "bert acc avg: 0.851 err: 0.021\n",
      "\n",
      "Dataset subj_002\n",
      "gan-textgen-bert acc avg: 0.898 err: 0.007\n",
      "bert acc avg: 0.894 err: 0.011\n",
      "\n",
      "Dataset subj_005\n",
      "gan-textgen-bert acc avg: 0.914 err: 0.002\n",
      "bert acc avg: 0.889 err: 0.021\n",
      "\n"
     ]
    }
   ],
   "source": [
    "datasets = list(data['bert'].keys())\n",
    "datasets.sort()\n",
    "for dataset in datasets:\n",
    "    print('Dataset ' + dataset)\n",
    "    gan_textgen_stats = data['gan-textgen-bert'][dataset]\n",
    "    accs = [x['accuracy'] for x in gan_textgen_stats]\n",
    "    avg, err = calculate_interval(accs)\n",
    "    print('gan-textgen-bert acc avg: {:.3f} err: {:.3f}'.format(avg, err))\n",
    "    bert_stats = data['bert'][dataset]\n",
    "    accs = [x['accuracy'] for x in bert_stats]\n",
    "    avg, err = calculate_interval(accs)\n",
    "    print('bert acc avg: {:.3f} err: {:.3f}'.format(avg, err))\n",
    "    print()"
   ]
  },
  {
   "cell_type": "code",
   "execution_count": null,
   "metadata": {},
   "outputs": [],
   "source": []
  }
 ],
 "metadata": {
  "kernelspec": {
   "display_name": "mestrado",
   "language": "python",
   "name": "python3"
  },
  "language_info": {
   "codemirror_mode": {
    "name": "ipython",
    "version": 3
   },
   "file_extension": ".py",
   "mimetype": "text/x-python",
   "name": "python",
   "nbconvert_exporter": "python",
   "pygments_lexer": "ipython3",
   "version": "3.11.3"
  }
 },
 "nbformat": 4,
 "nbformat_minor": 2
}
