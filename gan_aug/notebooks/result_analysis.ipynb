{
 "cells": [
  {
   "cell_type": "code",
   "execution_count": null,
   "metadata": {},
   "outputs": [],
   "source": [
    "import sys\n",
    "sys.path.append('..')\n",
    "sys.path.append('../..')"
   ]
  },
  {
   "cell_type": "code",
   "execution_count": null,
   "metadata": {},
   "outputs": [],
   "source": [
    "import matplotlib.pyplot as plt\n",
    "from plots.plot_optuna_results import load_trial_stats"
   ]
  },
  {
   "cell_type": "code",
   "execution_count": null,
   "metadata": {},
   "outputs": [],
   "source": [
    "data = {\n",
    "    'subj': {\n",
    "        'gan-1': load_trial_stats('../optuna/stats/subj/study-ganaug-subj-1layer-trial-0.json'),\n",
    "        'gan-4': load_trial_stats('../optuna/stats/subj/study-gantext-subj-trial-0.json'),\n",
    "        'sim-1': load_trial_stats('../optuna/stats/subj/basic-1layer-subj-20epochs.json'),\n",
    "        'sim-4': load_trial_stats('../optuna/stats/subj/basic-4layer-subj-20epochs.json')\n",
    "    },\n",
    "    'aclImdb': {\n",
    "        'gan-1': load_trial_stats('../optuna/stats/aclImdb/study-gantext-aclimdb-trial-0-1layer.json'),\n",
    "        'gan-4': load_trial_stats('../optuna/stats/aclImdb/study-gantext-aclimdb-trial-0-4layers.json'),\n",
    "        'sim-1': load_trial_stats('../optuna/stats/aclImdb/basic-1layer-aclImdb-20epochs.json'),\n",
    "        'sim-4': load_trial_stats('../optuna/stats/aclImdb/basic-4layer-aclImdb.json')\n",
    "    }\n",
    "}"
   ]
  },
  {
   "cell_type": "code",
   "execution_count": null,
   "metadata": {},
   "outputs": [],
   "source": [
    "def plot_metric(dataset_result, metric, file=None):\n",
    "    labels = []\n",
    "    for key, value in dataset_result.items():\n",
    "        labels.append(key)\n",
    "        epochs = [x['epoch'] for x in value]\n",
    "        metric_values = [x[metric] for x in value]\n",
    "        plt.plot(epochs, metric_values)\n",
    "    plt.xlabel('Epoch')\n",
    "    plt.ylabel(metric)\n",
    "    plt.legend(labels)\n",
    "\n",
    "    if file:\n",
    "        plt.savefig(file)\n",
    "\n",
    "    plt.show()"
   ]
  },
  {
   "cell_type": "code",
   "execution_count": null,
   "metadata": {},
   "outputs": [],
   "source": [
    "plot_metric(data['subj'], 'Valid. Accur.')"
   ]
  },
  {
   "cell_type": "code",
   "execution_count": null,
   "metadata": {},
   "outputs": [],
   "source": [
    "plot_metric(data['aclImdb'], 'Valid. Accur.')"
   ]
  },
  {
   "cell_type": "code",
   "execution_count": null,
   "metadata": {},
   "outputs": [],
   "source": [
    "plot_metric(data['subj'], 'Valid. Loss')"
   ]
  },
  {
   "cell_type": "code",
   "execution_count": null,
   "metadata": {},
   "outputs": [],
   "source": []
  }
 ],
 "metadata": {
  "kernelspec": {
   "display_name": "py38",
   "language": "python",
   "name": "python3"
  },
  "language_info": {
   "codemirror_mode": {
    "name": "ipython",
    "version": 3
   },
   "file_extension": ".py",
   "mimetype": "text/x-python",
   "name": "python",
   "nbconvert_exporter": "python",
   "pygments_lexer": "ipython3",
   "version": "3.8.5"
  },
  "orig_nbformat": 4,
  "vscode": {
   "interpreter": {
    "hash": "cd91f662f1afbf8a10312327b8edf4985b21a5cb4ff4598d7fe040fc0d46834d"
   }
  }
 },
 "nbformat": 4,
 "nbformat_minor": 2
}
